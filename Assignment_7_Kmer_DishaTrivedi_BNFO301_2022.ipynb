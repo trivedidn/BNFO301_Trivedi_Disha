{
  "nbformat": 4,
  "nbformat_minor": 0,
  "metadata": {
    "kernelspec": {
      "display_name": "Python 3",
      "language": "python",
      "name": "python3"
    },
    "language_info": {
      "codemirror_mode": {
        "name": "ipython",
        "version": 3
      },
      "file_extension": ".py",
      "mimetype": "text/x-python",
      "name": "python",
      "nbconvert_exporter": "python",
      "pygments_lexer": "ipython3",
      "version": "3.7.4"
    },
    "colab": {
      "name": "Assignment5-Kmar.ipynb",
      "provenance": [],
      "collapsed_sections": [],
      "include_colab_link": true
    }
  },
  "cells": [
    {
      "cell_type": "markdown",
      "metadata": {
        "id": "view-in-github",
        "colab_type": "text"
      },
      "source": [
        "<a href=\"https://colab.research.google.com/github/trivedidn/BNFO301_Trivedi_Disha/blob/main/Assignment_7_Kmer_DishaTrivedi_BNFO301_2022.ipynb\" target=\"_parent\"><img src=\"https://colab.research.google.com/assets/colab-badge.svg\" alt=\"Open In Colab\"/></a>"
      ]
    },
    {
      "cell_type": "markdown",
      "metadata": {
        "id": "CV8ltn7IuWLR"
      },
      "source": [
        "<h1>BNFO301 Assignment #7: K-mer </h1>\n",
        "\n",
        "Most *de novo* genome assembly is done using de Bruijn graphs.  We discussed how these graphs give us a genome assembly given a set of K-1-mers in the lecture.  The the length of K is the most significant parameter of a de Bruijn graph assembly.  Sequence reads with less than K bases will not share and edge in the graph, genomic repeats longer than K will lead to forks, and a longer K will reduce the percent of \"correct K-mers\", when compared to a shorter K.  In this assignment, you will be tasked with detecting Kmers and evaluating K-mers.  Normally this would be done using sequence reads (e.g. Illumina paired-end reads), but here you will evaluate K given a complete genome, which provides additional insights.\n",
        "\n",
        "Grading:\n",
        "\n",
        "The assignment is worth 20 points and you will have meeting to complete the assignment.\n",
        "\n",
        "Attendance: 5 points\n",
        "\n",
        "Question 1: 5 points\n",
        "\n",
        "Question 2: 5 points\n",
        "\n",
        "Question 3: 5 points\n",
        "\n",
        "\n",
        "\n",
        "\n",
        "\n",
        "\n"
      ]
    },
    {
      "cell_type": "markdown",
      "metadata": {
        "id": "CM7DEBptKwuv"
      },
      "source": [
        "### Setup\n",
        "Read the Sequence Data File. \n",
        "Do not change the code, just run as is."
      ]
    },
    {
      "cell_type": "code",
      "metadata": {
        "id": "2zD28BXq0bRi",
        "colab": {
          "base_uri": "https://localhost:8080/"
        },
        "outputId": "3fcba78c-2e6f-4293-b488-b3cf5a5a2517"
      },
      "source": [
        "import os.path\n",
        "# Load the genbank file \n",
        "DATA_FILE_GITHUB = \"https://raw.githubusercontent.com/MusBansal/BNFO301Data/main/homosapiens_hbb_data.fasta\"\n",
        "DEFAULT_FILE_NAME = 'homosapiens_hbb_data.fasta'\n",
        "fileName = DEFAULT_FILE_NAME\n",
        "#Does the file exists locally, if not get it from the github\n",
        "if not os.path.exists(fileName):\n",
        "  #Load the file from Github to the local folder\n",
        "  !wget --no-check-certificate --content-disposition $DATA_FILE_GITHUB\n",
        "   \n",
        "print(\"Reading file:\", fileName)\n"
      ],
      "execution_count": 88,
      "outputs": [
        {
          "output_type": "stream",
          "name": "stdout",
          "text": [
            "Reading file: homosapiens_hbb_data.fasta\n"
          ]
        }
      ]
    },
    {
      "cell_type": "markdown",
      "metadata": {
        "id": "WIDxNNSDz1pE"
      },
      "source": [
        "###Question 1\n",
        "**Counting Kmers** <br>\n",
        "Count the total number of 7-mers in the hbb human gene contained within the downloaed file and print the first five k-mers.  This is in fasta format.\n",
        "\n",
        "<br>\n",
        "**Example return:** <br>\n",
        "Total Number of 7-mers: 123 <br>\n",
        "7-mer #0: ATCGCTA <br>\n",
        "7-mer #1: TCGCTAG <br>\n",
        "7-mer #2: CGCTAGC <br>\n",
        "7-mer #3: GCTAGCG <br>\n",
        "7-mer #4: CTAGCGA <br>\n",
        "\n",
        "\n",
        "**Explanation and Example:**\n",
        "A k-mer is a sequence of *k* characters in a string of nucloeitides in a DNA sequence.  Remember to extract all k-mers from a sequence you need to get the first k-characters in the string and move just a single character from the start of the next k-mer and so- on (this is known as a sliding window). This will create a sequence that overlaps in k-1 positions. The visual below shows this concept by extracting the 4-mers from the short nucleotide string.  \n",
        "\n",
        "![image.png](data:image/png;base64,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)\n",
        "\n"
      ]
    },
    {
      "cell_type": "markdown",
      "metadata": {
        "id": "VtmJZkOVsUPJ"
      },
      "source": [
        "Q1 part a) Create a function to load the file and return the sequence and its header as a dictionary."
      ]
    },
    {
      "cell_type": "code",
      "metadata": {
        "id": "np4qBU_jLTht",
        "colab": {
          "base_uri": "https://localhost:8080/"
        },
        "outputId": "682c68c0-1cf6-418d-fd27-e93d85d34109"
      },
      "source": [
        "#Create function to load the file to a dictionary sequence\n",
        "def LoadFasta(filepath):\n",
        "  with open(fileName, 'r') as infile:\n",
        "    lines = infile.readlines()\n",
        "    seqIds = ''\n",
        "    sequences = ''\n",
        "    my_dict = {}\n",
        "    for line in lines: \n",
        "      if(line[0] == \">\"): \n",
        "        line = line.replace(\">\", \" \")\n",
        "        seqIds = line[1:-1]\n",
        "        my_dict[seqIds] = sequences\n",
        "      else: \n",
        "        sequences += line.strip()\n",
        "    my_dict[seqIds] = sequences\n",
        "\n",
        "  return my_dict \n",
        "\n",
        "\n",
        "\n",
        "\n",
        "\n",
        "\n",
        "\n",
        "\n",
        "\n",
        "\n",
        "\n",
        "sequences = LoadFasta(fileName)  \n",
        "# Parse input file to generate two lists\n",
        "sequence = list(sequences.values())[0]\n",
        "#Print the sequence and its length\n",
        "print(\"Sequence length is \", len(sequence), sequence)"
      ],
      "execution_count": 89,
      "outputs": [
        {
          "output_type": "stream",
          "name": "stdout",
          "text": [
            "Sequence length is  1608 ACATTTGCTTCTGACACAACTGTGTTCACTAGCAACCTCAAACAGACACCATGGTGCATCTGACTCCTGAGGAGAAGTCTGCCGTTACTGCCCTGTGGGGCAAGGTGAACGTGGATGAAGTTGGTGGTGAGGCCCTGGGCAGGTTGGTATCAAGGTTACAAGACAGGTTTAAGGAGACCAATAGAAACTGGGCATGTGGAGACAGAGAAGACTCTTGGGTTTCTGATAGGCACTGACTCTCTCTGCCTATTGGTCTATTTTCCCACCCTTAGGCTGCTGGTGGTCTACCCTTGGACCCAGAGGTTCTTTGAGTCCTTTGGGGATCTGTCCACTCCTGATGCTGTTATGGGCAACCCTAAGGTGAAGGCTCATGGCAAGAAAGTGCTCGGTGCCTTTAGTGATGGCCTGGCTCACCTGGACAACCTCAAGGGCACCTTTGCCACACTGAGTGAGCTGCACTGTGACAAGCTGCACGTGGATCCTGAGAACTTCAGGGTGAGTCTATGGGACGCTTGATGTTTTCTTTCCCCTTCTTTTCTATGGTTAAGTTCATGTCATAGGAAGGGGATAAGTAACAGGGTACAGTTTAGAATGGGAAACAGACGAATGATTGCATCAGTGTGGAAGTCTCAGGATCGTTTTAGTTTCTTTTATTTGCTGTTCATAACAATTGTTTTCTTTTGTTTAATTCTTGCTTTCTTTTTTTTTCTTCTCCGCAATTTTTACTATTATACTTAATGCCTTAACATTGTGTATAACAAAAGGAAATATCTCTGAGATACATTAAGTAACTTAAAAAAAAACTTTACACAGTCTGCCTAGTACATTACTATTTGGAATATATGTGTGCTTATTTGCATATTCATAATCTCCCTACTTTATTTTCTTTTATTTTTAATTGATACATAATCATTATACATATTTATGGGTTAAAGTGTAATGTTTTAATATGTGTACACATATTGACCAAATCAGGGTAATTTTGCATTTGTAATTTTAAAAAATGCTTTCTTCTTTTAATATACTTTTTTGTTTATCTTATTTCTAATACTTTCCCTAATCTCTTTCTTTCAGGGCAATAATGATACAATGTATCATGCCTCTTTGCACCATTCTAAAGAATAACAGTGATAATTTCTGGGTTAAGGCAATAGCAATATCTCTGCATATAAATATTTCTGCATATAAATTGTAACTGATGTAAGAGGTTTCATATTGCTAATAGCAGCTACAATCCAGCTACCATTCTGCTTTTATTTTATGGTTGGGATAAGGCTGGATTATTCTGAGTCCAAGCTAGGCCCTTTTGCTAATCATGTTCATACCTCTTATCTTCCTCCCACAGCTCCTGGGCAACGTGCTGGTCTGTGTGCTGGCCCATCACTTTGGCAAAGAATTCACCCCACCAGTGCAGGCTGCCTATCAGAAAGTGGTGGCTGGTGTGGCTAATGCCCTGGCCCACAAGTATCACTAAGCTCGCTTTCTTGCTGTCCAATTTCTATTAAAGGTTCCTTTGTTCCCTAAGTCCAACTACTAAACTGGGGGATATTATGAAGGGCCTTGAGCATCTGGATTCTGCCTAATAAAAAACATTTATTTTCATTGCAA\n"
          ]
        }
      ]
    },
    {
      "cell_type": "markdown",
      "metadata": {
        "id": "6FrAuraJs5Qo"
      },
      "source": [
        "Q1 part b) Create a definition to find and count all K-mers.  Print the total number of K-mers and the first five K-mers found.  Do not reject K-mers that appear more than once in the genome."
      ]
    },
    {
      "cell_type": "code",
      "metadata": {
        "id": "MnUO_nZTseSy",
        "colab": {
          "base_uri": "https://localhost:8080/"
        },
        "outputId": "6cf31662-813c-4702-a94b-cc743b5c68e4"
      },
      "source": [
        "# Function to find  a list of k-mers based on the value of k and s - sequence provided\n",
        "def findKMers(k,sequence):\n",
        "    #create list to store K-mers\n",
        "  kmerlist = []\n",
        "  \n",
        "\n",
        "\n",
        "    #use the range function to generate an integer to create a sliding window and store K-mers in a list\n",
        "  for i in range(0, len(sequence) - k+1): \n",
        "    kmerlist.append(sequence[i:i+k])\n",
        "  return kmerlist\n",
        "\n",
        "\n",
        "kmerlist = findKMers(7,sequence)\n",
        "#Print 7-mer count\n",
        "print(\"Total # of 7-mers are\", len(kmerlist))\n",
        "#Print first 5 7-mers\n",
        "for i in range(5):\n",
        "    print(\"7-mer #\" , i , \":\", kmerlist[i])\n"
      ],
      "execution_count": 90,
      "outputs": [
        {
          "output_type": "stream",
          "name": "stdout",
          "text": [
            "Total # of 7-mers are 1602\n",
            "7-mer # 0 : ACATTTG\n",
            "7-mer # 1 : CATTTGC\n",
            "7-mer # 2 : ATTTGCT\n",
            "7-mer # 3 : TTTGCTT\n",
            "7-mer # 4 : TTGCTTC\n"
          ]
        }
      ]
    },
    {
      "cell_type": "markdown",
      "metadata": {
        "id": "RNOm5nBGRDYi"
      },
      "source": [
        "### Question 2\n",
        "Print the first 5 reverse complementary and canonical k-mers along with the original kmers from Question 1 in a table similar to the example below.\n",
        "\n",
        "\n",
        "|Offset|0|1|2|3|4|\n",
        "|-----|-------|-------|-------|-------|-------|\n",
        "|7-mer|ATCGCTA|TCGCTAG|CGCTAGC|GCTAGCG|CTAGCGA|\n",
        "|Reverse Complement|TCGCATA|CGCATAC|GCATACG|CATACGT|CATCGTA|\n",
        "|Canonical|ATCGCTA|TCGCATA|CGCATAC|CATACGT|CATCGTA|\n",
        "\n",
        "DNA is *normally* double stranded with bases paired on opposite strands read from 5' to 3'. Thus, we want to consider each location of the genome, both forward and reverse strands. Thus, we want to calcaulte the reverse complement of the sequence and extract the first 5 7-mers. \n",
        "\n",
        "Counting the abundance of K-mers is important.  K-mers are often presented as the canonical sequence. This is presenting the lexicographically smaller of the two reverse complementary sequences (the one that comes earliest in alphabetical order). Most k-mer counting tool will use the canonical k-mers when presenting a K-mer count. \n",
        "\n"
      ]
    },
    {
      "cell_type": "markdown",
      "metadata": {
        "id": "q0vkHXajt43u"
      },
      "source": [
        "Q2 part a) Create definition that returns the Reverse Compliment Sequence of the genome"
      ]
    },
    {
      "cell_type": "code",
      "metadata": {
        "colab": {
          "base_uri": "https://localhost:8080/"
        },
        "id": "o6gGqqYmRbhb",
        "outputId": "1ba87f40-abf6-4df8-88d5-e204fdd6c1fc"
      },
      "source": [
        "# Create reverse complimentary sequence by substituting bases\n",
        "  # Flip A -> T\n",
        "  # Flip T -> A\n",
        "  # Flip C -> G\n",
        "  # Flip G -> C\n",
        "  # Reverse the string\n",
        "\n",
        "def createComplimantrySequence(s):\n",
        "  compSequence = \"\"\n",
        "  for char in s:\n",
        "    if char == \"T\":\n",
        "        compSequence += \"A\"\n",
        "    elif char == \"A\":\n",
        "        compSequence += \"T\"\n",
        "    elif char == \"C\": \n",
        "        compSequence += \"G\" \n",
        "    elif char == \"G\": \n",
        "        compSequence += \"C\"\n",
        "        \n",
        "#reverse the sequence to get complementary strand \n",
        "  compSequence = (compSequence[::-1])\n",
        "\n",
        "  return compSequence\n",
        "\n",
        "\n",
        "\n",
        "compSequence = createComplimantrySequence(sequence)\n",
        "print(compSequence[0:100])"
      ],
      "execution_count": 91,
      "outputs": [
        {
          "output_type": "stream",
          "name": "stdout",
          "text": [
            "TTGCAATGAAAATAAATGTTTTTTATTAGGCAGAATCCAGATGCTCAAGGCCCTTCATAATATCCCCCAGTTTAGTAGTTGGACTTAGGGAACAAAGGAA\n"
          ]
        }
      ]
    },
    {
      "cell_type": "markdown",
      "metadata": {
        "id": "dHkxp7jmuqJd"
      },
      "source": [
        "Q2 part b) Count the total number of 7-mers in the reverse complement genome and print the total number of K-mers and the first five K-mers. Use the definition created in Question 1 part B."
      ]
    },
    {
      "cell_type": "code",
      "metadata": {
        "id": "xYXtYCCKuVWh",
        "colab": {
          "base_uri": "https://localhost:8080/"
        },
        "outputId": "dfcbc6e6-00cd-47da-ffeb-7fc40d486419"
      },
      "source": [
        "\n",
        "#find compliment kmers\n",
        "compKmerlist = findKMers(7,compSequence)\n",
        "\n",
        "#Print 7-mer count\n",
        "print(\"Total # of 7-mers are\", len(compKmerlist))\n",
        "\n",
        "#Print first 5 7-mers\n",
        "for i in range(5):\n",
        "    print(\"7-mer #\" , i , \":\", compKmerlist[i])\n",
        "\n"
      ],
      "execution_count": 92,
      "outputs": [
        {
          "output_type": "stream",
          "name": "stdout",
          "text": [
            "Total # of 7-mers are 1602\n",
            "7-mer # 0 : TTGCAAT\n",
            "7-mer # 1 : TGCAATG\n",
            "7-mer # 2 : GCAATGA\n",
            "7-mer # 3 : CAATGAA\n",
            "7-mer # 4 : AATGAAA\n"
          ]
        }
      ]
    },
    {
      "cell_type": "code",
      "source": [
        ""
      ],
      "metadata": {
        "id": "Q-wssRYfFTRV"
      },
      "execution_count": 92,
      "outputs": []
    },
    {
      "cell_type": "markdown",
      "metadata": {
        "id": "sFiC69EIvHIQ"
      },
      "source": [
        "Q2 part c) Create definition to find the Canonical Sequence for each K-mer pair (forward and Reverse Complement) and create print statement similar Question 2 part B."
      ]
    },
    {
      "cell_type": "code",
      "metadata": {
        "id": "F5eVgiCzuuqw",
        "colab": {
          "base_uri": "https://localhost:8080/"
        },
        "outputId": "e36720c6-0e72-4d6b-bb0a-17d141176623"
      },
      "source": [
        "def createCanonicalSequeces(sequences, reverseComplimentSequences):\n",
        "# Expect that the sequences and reverseComplimentsSequences are of the same length\n",
        "    \n",
        "  canonicalSequencesList = [] \n",
        "  if len(sequences) != len(reverseComplimentSequences):\n",
        "    return canonicalSequencesList\n",
        "\n",
        "  for i in range(len(sequences)):\n",
        "    if sequences[i] < reverseComplimentSequences[i]: \n",
        "      canonicalSequencesList.append(sequences[i])\n",
        "    else: \n",
        "      canonicalSequencesList.append(reverseComplimentSequences[i])\n",
        "  \n",
        "\n",
        "    \n",
        "  return canonicalSequencesList\n",
        "\n",
        "\n",
        "\n",
        "\n",
        "canonicalSequencesList = createCanonicalSequeces(kmerlist, compKmerlist)\n",
        "#Print the 7-mer count\n",
        "print(\"Total # of 7-mers are\", len(compKmerlist))\n",
        "#Print first 5 Kmers\n",
        "for i in range(5):\n",
        "  print(\"7-mer #\" , i , \":\", compKmerlist[i])\n"
      ],
      "execution_count": 93,
      "outputs": [
        {
          "output_type": "stream",
          "name": "stdout",
          "text": [
            "Total # of 7-mers are 1602\n",
            "7-mer # 0 : TTGCAAT\n",
            "7-mer # 1 : TGCAATG\n",
            "7-mer # 2 : GCAATGA\n",
            "7-mer # 3 : CAATGAA\n",
            "7-mer # 4 : AATGAAA\n"
          ]
        }
      ]
    },
    {
      "cell_type": "markdown",
      "metadata": {
        "id": "SBflHOysvMLS"
      },
      "source": [
        "Q2 part d) Create a definition that prints out a table that contains the 7-mer, its RC 7-mer, and the Canoical K-mer"
      ]
    },
    {
      "cell_type": "code",
      "metadata": {
        "id": "ZL8hRRV9vRYv",
        "colab": {
          "base_uri": "https://localhost:8080/"
        },
        "outputId": "513d48c6-eec7-48bc-c3b5-81e89362717c"
      },
      "source": [
        "#Print the requested table uisng the format in the example\n",
        "from prettytable import PrettyTable \n",
        "\n",
        "def nicePrint(kmerlist, compKmerlist, canonicalSequencesList):\n",
        "  niceTable = PrettyTable([\"Offset\", 1, 2, 3, 4])\n",
        "\n",
        "  niceTable.add_row([\"7-mer\", kmerlist [1], kmerlist [2], kmerlist [3], kmerlist [4]])\n",
        "  niceTable.add_row([\"RC 7-mer\", compKmerlist [1], compKmerlist [2], compKmerlist [3], compKmerlist [4]])\n",
        "  niceTable.add_row([\"Canoical K-mer\", canonicalSequencesList [1], canonicalSequencesList[2], canonicalSequencesList[3], canonicalSequencesList[4]])\n",
        "\n",
        "  print(niceTable)\n",
        "\n",
        "nicePrint(kmerlist, compKmerlist, canonicalSequencesList)"
      ],
      "execution_count": 94,
      "outputs": [
        {
          "output_type": "stream",
          "name": "stdout",
          "text": [
            "+----------------+---------+---------+---------+---------+\n",
            "|     Offset     |    1    |    2    |    3    |    4    |\n",
            "+----------------+---------+---------+---------+---------+\n",
            "|     7-mer      | CATTTGC | ATTTGCT | TTTGCTT | TTGCTTC |\n",
            "|    RC 7-mer    | TGCAATG | GCAATGA | CAATGAA | AATGAAA |\n",
            "| Canoical K-mer | CATTTGC | ATTTGCT | CAATGAA | AATGAAA |\n",
            "+----------------+---------+---------+---------+---------+\n"
          ]
        }
      ]
    },
    {
      "cell_type": "markdown",
      "metadata": {
        "id": "ODLfafzBgaxr"
      },
      "source": [
        "### Question 3\n",
        "#### Distinct, unique and total k-mers\n",
        "For the following sequence:`AATCGGGGTATC`, calculate the total, distinct, and unique count of the canonical 3-mers. \n",
        "\n",
        "*Total k-mers* are the sum of k-mers that can be obtained from the sequence given k.\n",
        "\n",
        "*Distinct k-mers* are counted only once, even if they appear multiple times.\n",
        "\n",
        "*Unique k-mers* are those that appear only once. Unique k-mers are very important for analysis. "
      ]
    },
    {
      "cell_type": "code",
      "source": [
        ""
      ],
      "metadata": {
        "id": "YN0op_GmSFU5"
      },
      "execution_count": 94,
      "outputs": []
    },
    {
      "cell_type": "markdown",
      "metadata": {
        "id": "FLkXxtW-v-FS"
      },
      "source": [
        "Q3 part a) Find 3-mers and their compliments"
      ]
    },
    {
      "cell_type": "code",
      "metadata": {
        "id": "faPqFX4uvoBW",
        "colab": {
          "base_uri": "https://localhost:8080/"
        },
        "outputId": "f25b23a5-da98-4a98-9e08-545f209c31f2"
      },
      "source": [
        "#create a list of distinct 3-mers in this sequence\n",
        "sequence = \"AATCGGGGTATC\"\n",
        "#Ues a previously created definition to find 3 mers\n",
        "def findKMers(k,sequence):\n",
        "    #create list to store K-mers\n",
        "  kmerlist2 = []\n",
        "    #use the range function to generate an integer to create a sliding window and store K-mers in a list\n",
        "  for i in range(0, len(sequence) - k+1): \n",
        "    kmerlist2.append(sequence[i:i+k])\n",
        "  return kmerlist2\n",
        "\n",
        "#print total count of 3-mers and all 3-mers\n",
        "kmerlist2 = findKMers(3,sequence)\n",
        "totalAmount = len(kmerlist2)\n",
        "print(\"Total Amount of Kmers:\" ,totalAmount)\n",
        "print(\"Kmers:\", kmerlist2)\n",
        "\n",
        "#Use a previously created definition to find the compliment of the sequence\n",
        "def createComplimantrySequence(s):\n",
        "  compSequence2 = \"\"\n",
        "  for char in s:\n",
        "    if char == \"T\":\n",
        "        compSequence2 += \"A\"\n",
        "    elif char == \"A\":\n",
        "        compSequence2 += \"T\"\n",
        "    elif char == \"C\": \n",
        "        compSequence2 += \"G\" \n",
        "    elif char == \"G\": \n",
        "        compSequence2 += \"C\"\n",
        "        \n",
        "#reverse the sequence to get complementary strand \n",
        "  compSequence2 = (compSequence2[::-1])\n",
        "\n",
        "  return compSequence2\n",
        "\n",
        "\n",
        "\n",
        "compSequence2 = createComplimantrySequence(sequence)\n",
        "print(\"Complementary Sequence is:\", compSequence2[0:100])\n",
        "\n",
        "#Use a previously created defition to find compliment kmers\n",
        "compKmerlist2 = findKMers(3,compSequence2)\n",
        "totalcompAmount2 = len(compKmerlist2)\n",
        "\n",
        "#Again, print the count of 3-mers and the 3-mers themselves\n",
        "print(\"Total Amount of Kmers for Complimentary Sequence:\", totalcompAmount2)\n",
        "\n",
        "#Print the 3 mers\n",
        "print(\"Kmers for Complimentary Sequence:\", compKmerlist2)\n",
        "\n",
        "\n"
      ],
      "execution_count": 95,
      "outputs": [
        {
          "output_type": "stream",
          "name": "stdout",
          "text": [
            "Total Amount of Kmers: 10\n",
            "Kmers: ['AAT', 'ATC', 'TCG', 'CGG', 'GGG', 'GGG', 'GGT', 'GTA', 'TAT', 'ATC']\n",
            "Complementary Sequence is: GATACCCCGATT\n",
            "Total Amount of Kmers for Complimentary Sequence: 10\n",
            "Kmers for Complimentary Sequence: ['GAT', 'ATA', 'TAC', 'ACC', 'CCC', 'CCC', 'CCG', 'CGA', 'GAT', 'ATT']\n"
          ]
        }
      ]
    },
    {
      "cell_type": "markdown",
      "metadata": {
        "id": "aylQ6oRAwT-N"
      },
      "source": [
        "Q3 part b) Find canonical, distinct and unique K-mers given the list of 3-mers created in the part a"
      ]
    },
    {
      "cell_type": "code",
      "metadata": {
        "colab": {
          "base_uri": "https://localhost:8080/"
        },
        "id": "aR-PARNigby0",
        "outputId": "5eb2e313-1bfb-4157-f4a1-7ef38d3d07c7"
      },
      "source": [
        "# Create a definition to find a distinct list, from a list of different elements (ignore the duplicates)\n",
        "def createDistinctList(one):\n",
        "  if len(one) == 0: \n",
        "    return one \n",
        "  \n",
        "  distinctlist = []\n",
        "  for i in range(len(one)): \n",
        "    kmervalue = one[i]\n",
        "    if kmervalue not in distinctlist: \n",
        "      distinctlist.append(kmervalue)\n",
        "  \n",
        "  return distinctlist\n",
        "\n",
        "\n",
        "\n",
        "# Create a defintion to find a unique list, from a list of different elements (ignore any sequence that has more then one occurnace)\n",
        "def createUniqueList(one):\n",
        "  if len(one) == 0: \n",
        "    return ; \n",
        "  \n",
        "  uniquelist = []\n",
        "  kmerdict = {}\n",
        "\n",
        "  for i in range (len(one)): \n",
        "    kmervalue = one[i]\n",
        "    \n",
        "    if kmervalue not in kmerdict.keys(): \n",
        "      kmerdict[kmervalue] = 1 \n",
        "    else: \n",
        "      kmerdict[kmervalue] += 1 \n",
        "  \n",
        "  for key, value in kmerdict.items(): \n",
        "    if value == 1:\n",
        "      uniquelist.append(key)\n",
        "  \n",
        "  return uniquelist \n",
        "\n",
        "\n",
        "\n",
        "\n",
        "# Find canonical sequences from the 3-mers\n",
        "cantonicalSequencesList = createCanonicalSequeces(kmerlist2, compKmerlist2)\n",
        "print(\"Canonical 3-mers  are\", len(canonicalSequencesList), cantonicalSequencesList)\n",
        "# Find distinct sequences from the 3-mers\n",
        "distinctlist = createDistinctList(canonicalSequencesList)\n",
        "print(\"Total distinct Kmers found are \", len(distinctlist), distinctlist)\n",
        "# Find unique sequences from the 3-mers\n",
        "uniquelist =  createUniqueList(canonicalSequencesList)\n",
        "print(\"Total Unique Kmers found are \", len(uniquelist), uniquelist)\n",
        "\n",
        "#note: for my output I tried changing the variable names so that it would calculate the kmers based off the sequence given in q3 part a, however for some reason it is calculating them\n",
        "#based off the sequence given in the file. "
      ],
      "execution_count": 102,
      "outputs": [
        {
          "output_type": "stream",
          "name": "stdout",
          "text": [
            "Canonical 3-mers  are 1602 ['AAT', 'ATA', 'TAC', 'ACC', 'CCC', 'CCC', 'CCG', 'CGA', 'GAT', 'ATC']\n",
            "Total distinct Kmers found are  1377 ['ACATTTG', 'CATTTGC', 'ATTTGCT', 'CAATGAA', 'AATGAAA', 'ATGAAAA', 'GCTTCTG', 'CTTCTGA', 'AAAATAA', 'AAATAAA', 'AATAAAT', 'ATAAATG', 'GACACAA', 'AAATGTT', 'AATGTTT', 'ACAACTG', 'CAACTGT', 'AACTGTG', 'ACTGTGT', 'CTGTGTT', 'TGTGTTC', 'GTGTTCA', 'TGTTCAC', 'GTTCACT', 'ATTAGGC', 'TCACTAG', 'CACTAGC', 'ACTAGCA', 'CTAGCAA', 'GCAGAAT', 'AGCAACC', 'AGAATCC', 'CAACCTC', 'AACCTCA', 'ACCTCAA', 'CCTCAAA', 'CCAGATG', 'CAGATGC', 'AGATGCT', 'AAACAGA', 'AACAGAC', 'ACAGACA', 'CAGACAC', 'AGACACC', 'GACACCA', 'ACACCAT', 'AAGGCCC', 'ACCATGG', 'CCATGGT', 'CATGGTG', 'ATGGTGC', 'CCTTCAT', 'CTTCATA', 'GTGCATC', 'TCATAAT', 'CATAATA', 'ATAATAT', 'ATCTGAC', 'AATATCC', 'ATATCCC', 'TATCCCC', 'ATCCCCC', 'ACTCCTG', 'CCCCCAG', 'CCCCAGT', 'CCCAGTT', 'CCAGTTT', 'CAGTTTA', 'AGTTTAG', 'AGGAGAA', 'GGAGAAG', 'GAGAAGT', 'AGAAGTC', 'AGTAGTT', 'AAGTCTG', 'AGTCTGC', 'AGTTGGA', 'GTTGGAC', 'CTGCCGT', 'TGCCGTT', 'GCCGTTA', 'CCGTTAC', 'ACTTAGG', 'CTTAGGG', 'TTACTGC', 'TACTGCC', 'ACTGCCC', 'CTGCCCT', 'GGAACAA', 'GAACAAA', 'AACAAAG', 'ACAAAGG', 'CAAAGGA', 'AAAGGAA', 'AAGGAAC', 'AGGAACC', 'GGAACCT', 'GAACCTT', 'AACCTTT', 'ACCTTTA', 'CAAGGTG', 'AAGGTGA', 'AGGTGAA', 'GGTGAAC', 'GTGAACG', 'AATAGAA', 'ATAGAAA', 'AACGTGG', 'ACGTGGA', 'CGTGGAT', 'AAATTGG', 'AATTGGA', 'ATTGGAC', 'GATGAAG', 'ATGAAGT', 'GGACAGC', 'GAAGTTG', 'AAGTTGG', 'AGTTGGT', 'AGCAAGA', 'GCAAGAA', 'CAAGAAA', 'AAGAAAG', 'AGAAAGC', 'GAAAGCG', 'AAAGCGA', 'AAGCGAG', 'AGCGAGC', 'GAGGCCC', 'AGGCCCT', 'GAGCTTA', 'AGCTTAG', 'CCCTGGG', 'CCTGGGC', 'CTGGGCA', 'TAGTGAT', 'AGTGATA', 'GGCAGGT', 'GCAGGTT', 'CAGGTTG', 'AGGTTGG', 'GGTTGGT', 'ACTTGTG', 'CTTGTGG', 'TGGTATC', 'GGTATCA', 'GTATCAA', 'TATCAAG', 'ATCAAGG', 'GGCCAGG', 'CAAGGTT', 'AAGGTTA', 'AGGTTAC', 'AGGGCAT', 'GGGCATT', 'GGCATTA', 'GCATTAG', 'ACAAGAC', 'ATTAGCC', 'AAGACAG', 'AGACAGG', 'AGCCACA', 'ACAGGTT', 'CAGGTTT', 'AGGTTTA', 'ACACCAG', 'CACCAGC', 'ACCAGCC', 'CCAGCCA', 'CAGCCAC', 'AAGGAGA', 'AGGAGAC', 'CCACCAC', 'CACCACT', 'ACCACTT', 'CCACTTT', 'ACCAATA', 'ACTTTCT', 'CAATAGA', 'TAGAAAC', 'AGAAACT', 'GAAACTG', 'AAACTGG', 'AACTGGG', 'ACTGGGC', 'AGGCAGC', 'GGCAGCC', 'GCAGCCT', 'CAGCCTG', 'AGCCTGC', 'CATGTGG', 'ATGTGGA', 'CTGCACT', 'GTGGAGA', 'GCACTGG', 'CACTGGT', 'ACTGGTG', 'AGACAGA', 'GACAGAG', 'ACAGAGA', 'CAGAGAA', 'AGAGAAG', 'GAGAAGA', 'AGAAGAC', 'GAAGACT', 'AAGACTC', 'AGACTCT', 'GAATTCT', 'AATTCTT', 'ATTCTTT', 'TCTTGGG', 'CTTGGGT', 'CTTTGCC', 'TGGGTTT', 'GGGTTTC', 'GGTTTCT', 'GCCAAAG', 'CCAAAGT', 'CAAAGTG', 'AAAGTGA', 'AAGTGAT', 'AGTGATG', 'GATAGGC', 'ATAGGCA', 'GATGGGC', 'AGGCACT', 'GGCACTG', 'GCACTGA', 'CACTGAC', 'ACTGACT', 'CCAGCAC', 'CAGCACA', 'AGCACAC', 'ACTCTCT', 'CACACAG', 'ACACAGA', 'CACAGAC', 'ACAGACC', 'CAGACCA', 'AGACCAG', 'CTGCCTA', 'ACCAGCA', 'CAGCACG', 'AGCACGT', 'GCACGTT', 'ATTGGTC', 'ACGTTGC', 'CGTTGCC', 'GGTCTAT', 'GTCTATT', 'TCTATTT', 'CTATTTT', 'CCCAGGA', 'ATTTTCC', 'CAGGAGC', 'AGGAGCT', 'GGAGCTG', 'GAGCTGT', 'AGCTGTG', 'CCACCCT', 'CACCCTT', 'ACCCTTA', 'CCCTTAG', 'CCTTAGG', 'CTTAGGC', 'GGAGGAA', 'GAGGAAG', 'AGGAAGA', 'GGAAGAT', 'GAAGATA', 'AAGATAA', 'AGATAAG', 'GATAAGA', 'ATAAGAG', 'TAAGAGG', 'AAGAGGT', 'AGAGGTA', 'GAGGTAT', 'AGGTATG', 'GGTATGA', 'GTATGAA', 'CTACCCT', 'ATGAACA', 'ACCCTTG', 'CCCTTGG', 'AACATGA', 'ACATGAT', 'CATGATT', 'ATGATTA', 'GGACCCA', 'GACCCAG', 'ACCCAGA', 'CCCAGAG', 'CCAGAGG', 'AGCAAAA', 'AGAGGTT', 'CAAAAGG', 'AAAAGGG', 'AAAGGGC', 'AAGGGCC', 'AGGGCCT', 'GGGCCTA', 'CTTTGAG', 'GCCTAGC', 'CCTAGCT', 'CTAGCTT', 'GAGTCCT', 'AGCTTGG', 'GCTTGGA', 'CTTGGAC', 'CCTTTGG', 'CTTTGGG', 'GGACTCA', 'GACTCAG', 'ACTCAGA', 'CTCAGAA', 'GGGATCT', 'CAGAATA', 'AGAATAA', 'ATCTGTC', 'AATAATC', 'ATAATCC', 'TAATCCA', 'AATCCAG', 'ATCCAGC', 'CCACTCC', 'CACTCCT', 'AGCCTTA', 'GCCTTAT', 'CCTGATG', 'CTGATGC', 'TGATGCT', 'GATGCTG', 'ATCCCAA', 'TCCCAAC', 'CCCAACC', 'CCAACCA', 'CAACCAT', 'AACCATA', 'ACCATAA', 'CCATAAA', 'ATGGGCA', 'ATAAAAT', 'GGGCAAC', 'AATAAAA', 'AACCCTA', 'ACCCTAA', 'AAAAGCA', 'AAAGCAG', 'AAGCAGA', 'AGCAGAA', 'AGAATGG', 'GAATGGT', 'AATGGTA', 'ATGGTAG', 'AAGGCTC', 'AGGCTCA', 'GGCTCAT', 'GCTCATG', 'AGCTGGA', 'GCTGGAT', 'CATGGCA', 'ATGGCAA', 'GGATTGT', 'GATTGTA', 'ATTGTAG', 'AGAAAGT', 'GAAAGTG', 'AAAGTGC', 'AAGTGCT', 'AGTGCTC', 'GTGCTCG', 'GCTATTA', 'CTATTAG', 'CTCGGTG', 'ATTAGCA', 'CGGTGCC', 'GGTGCCT', 'AGCAATA', 'GCAATAT', 'CAATATG', 'AATATGA', 'ATATGAA', 'TATGAAA', 'ATGAAAC', 'AAACCTC', 'AACCTCT', 'ACCTCTT', 'ATGGCCT', 'CTCTTAC', 'GGCCTGG', 'CTTACAT', 'CCTGGCT', 'CTGGCTC', 'ACATCAG', 'CATCAGT', 'ATCAGTT', 'CTCACCT', 'CAGTTAC', 'AGTTACA', 'ACCTGGA', 'CCTGGAC', 'CTGGACA', 'ACAATTT', 'CAATTTA', 'AATTTAT', 'ACAACCT', 'ATATGCA', 'CTCAAGG', 'ATGCAGA', 'CAAGGGC', 'AAGGGCA', 'AGGGCAC', 'AGAAATA', 'GAAATAT', 'AAATATT', 'AATATTT', 'ACCTTTG', 'CCTTTGC', 'ATTTATA', 'TTTATAT', 'TTATATG', 'TATATGC', 'CCACACT', 'ACACTGA', 'CACTGAG', 'ACTGAGT', 'AGAGATA', 'GAGATAT', 'AGATATT', 'AGTGAGC', 'ATATTGC', 'TATTGCT', 'ATTGCTA', 'AGCTGCA', 'GCTGCAC', 'CTATTGC', 'GCACTGT', 'ATTGCCT', 'ACTGTGA', 'CTGTGAC', 'GCCTTAA', 'CCTTAAC', 'CTTAACC', 'GACAAGC', 'ACAAGCT', 'AACCCAG', 'AAGCTGC', 'CCAGAAA', 'CAGAAAT', 'AGAAATT', 'GAAATTA', 'AAATTAT', 'AATTATC', 'ATTATCA', 'GTGGATC', 'TATCACT', 'ATCACTG', 'GATCCTG', 'ATCCTGA', 'ACTGTTA', 'CCTGAGA', 'CTGAGAA', 'GTTATTC', 'GAGAACT', 'AGAACTT', 'AACTTCA', 'ACTTCAG', 'CTTCAGG', 'TTCAGGG', 'TCAGGGT', 'CAGGGTG', 'AATGGTG', 'TGAGTCT', 'GAGTCTA', 'AGTCTAT', 'GTCTATG', 'GCAAAGA', 'CAAAGAG', 'AAAGAGG', 'AAGAGGC', 'AGAGGCA', 'GAGGCAT', 'AGGCATG', 'GACGCTT', 'ACGCTTG', 'CATGATA', 'ATGATAC', 'CTTGATG', 'GATACAT', 'ATACATT', 'GATGTTT', 'ACATTGT', 'CATTGTA', 'ATTGTAT', 'TTGTATC', 'TGTATCA', 'GTATCAT', 'TATCATT', 'ATCATTA', 'TCATTAT', 'CATTATT', 'ATTATTG', 'CCCCTTC', 'CCCTTCT', 'ATTGCCC', 'CTTCTTT', 'TGCCCTG', 'GCCCTGA', 'CCCTGAA', 'CCTGAAA', 'CTGAAAG', 'TGAAAGA', 'GAAAGAA', 'AAAGAAA', 'AGAAAGA', 'GAAAGAG', 'AAAGAGA', 'AAGAGAT', 'AGAGATT', 'GAGATTA', 'AAGTTCA', 'AGTTCAT', 'ATTAGGG', 'TTAGGGA', 'TAGGGAA', 'AGGGAAA', 'ATGTCAT', 'GGAAAGT', 'GAAAGTA', 'AAAGTAT', 'AAGTATT', 'AGTATTA', 'GTATTAG', 'AGGAAGG', 'ATTAGAA', 'GAAGGGG', 'AAGGGGA', 'GAAATAA', 'AAATAAG', 'AATAAGA', 'ATAAGAT', 'ATAAGTA', 'AAGTAAC', 'AGTAACA', 'ATAAACA', 'TAAACAA', 'AAACAAA', 'AACAAAA', 'ACAAAAA', 'AGGGTAC', 'AAAAAAG', 'AAAAAGT', 'AAAAGTA', 'AAGTATA', 'AGTATAT', 'GTTTAGA', 'ATATTAA', 'TATTAAA', 'ATTAAAA', 'GAATGGG', 'AAAAGAA', 'AAAGAAG', 'AAGAAGA', 'AGAAGAA', 'GAAGAAA', 'AAAGCAT', 'AAGCATT', 'AGACGAA', 'GACGAAT', 'ACGAATG', 'ATTTTTT', 'GAATGAT', 'AATGATT', 'ATGATTG', 'TGATTGC', 'GATTGCA', 'ATTGCAT', 'AAAATTA', 'AAATTAC', 'AATTACA', 'ATTACAA', 'ATCAGTG', 'TACAAAT', 'ACAAATG', 'AGTGTGG', 'AAATGCA', 'AATGCAA', 'ATGCAAA', 'TGCAAAA', 'GCAAAAT', 'CAAAATT', 'AATTACC', 'ATTACCC', 'CTCAGGA', 'TACCCTG', 'ACCCTGA', 'AGGATCG', 'CCTGATT', 'CTGATTT', 'ATCGTTT', 'GATTTGG', 'ATTTGGT', 'GTTTTAG', 'TTGGTCA', 'TGGTCAA', 'GGTCAAT', 'GTCAATA', 'AGTTTCT', 'AATATGT', 'ATATGTG', 'TATGTGT', 'ATGTGTA', 'TGTGTAC', 'GTGTACA', 'TGTACAC', 'GTACACA', 'ACACATA', 'CACATAT', 'ACATATT', 'CATATTA', 'TTAAAAC', 'TAAAACA', 'AAAACAT', 'AAACATT', 'AACATTA', 'AACAATT', 'ACAATTG', 'ATTACAC', 'AATTGTT', 'ATTGTTT', 'ACACTTT', 'CACTTTA', 'ACTTTAA', 'CTTTAAC', 'TTTAACC', 'TTAACCC', 'TAACCCA', 'AACCCAT', 'ACCCATA', 'CCCATAA', 'CATAAAT', 'ATAAATA', 'TAAATAT', 'AAATATG', 'ATTCTTG', 'ATGTATA', 'TCTTGCT', 'CTTGCTT', 'TATAATG', 'ATAATGA', 'GCTTTCT', 'TGATTAT', 'GATTATG', 'ATTATGT', 'TTATGTA', 'TATGTAT', 'ATGTATC', 'TATCAAT', 'ATCAATT', 'TCAATTA', 'CAATTAA', 'AATTAAA', 'TCTCCGC', 'CTCCGCA', 'AAAAATA', 'ATAAAAG', 'AATTTTT', 'AAGAAAA', 'AGAAAAT', 'GAAAATA', 'AATAAAG', 'ATAAAGT', 'ATTATAC', 'AAAGTAG', 'AAGTAGG', 'AGTAGGG', 'GTAGGGA', 'ACTTAAT', 'AGGGAGA', 'GGGAGAT', 'GGAGATT', 'AATGCCT', 'AGATTAT', 'ATTATGA', 'CTTAACA', 'ATGAATA', 'TAACATT', 'AACATTG', 'AATATGC', 'ATTGTGT', 'TGCAAAT', 'GCAAATA', 'CAAATAA', 'AATAAGC', 'ATAACAA', 'TAACAAA', 'ACAAAAG', 'AAAAGGA', 'AAGGAAA', 'ACATATA', 'CATATAT', 'ATATATT', 'AAATATC', 'AATATCT', 'ATATCTC', 'ATTCCAA', 'ATCTCTG', 'TCCAAAT', 'CCAAATA', 'CAAATAG', 'AAATAGT', 'AATAGTA', 'ATAGTAA', 'AGATACA', 'AGTAATG', 'TAATGTA', 'AATGTAC', 'ATGTACT', 'ATTAAGT', 'GTACTAG', 'TAAGTAA', 'AGTAACT', 'GTAACTT', 'AGGCAGA', 'AACTTAA', 'ACTTAAA', 'CAGACTG', 'AGACTGT', 'GACTGTG', 'AAAAAAA', 'AAAAAAC', 'AAAAACT', 'AAAACTT', 'AAACTTT', 'AAAGTTT', 'AAGTTTT', 'AGTTTTT', 'GTTTTTT', 'TTACACA', 'TACACAG', 'ACACAGT', 'CACAGTC', 'ACAGTCT', 'CAGTCTG', 'GTCTGCC', 'TAAGTTA', 'AAGTTAC', 'AGTTACT', 'GCCTAGT', 'CCTAGTA', 'CTAGTAC', 'AGTACAT', 'GTACATT', 'AATGTAT', 'ATTACTA', 'GTATCTC', 'TACTATT', 'ACTATTT', 'CTATTTG', 'CTCAGAG', 'ATTTGGA', 'CAGAGAT', 'GAATATA', 'AATATAT', 'ATATATG', 'ATTTCCT', 'ATGTGTG', 'CCTTTTG', 'CTTTTGT', 'TGTGCTT', 'GTGCTTA', 'TGCTTAT', 'GCTTATT', 'CTTATTT', 'TTATACA', 'TATACAC', 'ATACACA', 'TACACAA', 'ACACAAT', 'CACAATG', 'ACAATGT', 'CAATGTT', 'AATGTTA', 'ATGTTAA', 'ATTCATA', 'GTTAAGG', 'CATAATC', 'AAGGCAT', 'AGGCATT', 'AATCTCC', 'ATCTCCC', 'CATTAAG', 'TCCCTAC', 'CCCTACT', 'AGTATAA', 'GTATAAT', 'ACTTTAT', 'ATAATAG', 'TAATAGT', 'ATTTTCT', 'AGTAAAA', 'GTAAAAA', 'TAAAAAT', 'AAAAATT', 'AAAATTG', 'AAATTGC', 'AATTGCG', 'ATTGCGG', 'TATTTTT', 'ATTTTTA', 'GCGGAGA', 'CGGAGAA', 'AATTGAT', 'AGAAAAA', 'GAAAAAA', 'AAAAAGA', 'GAAAGCA', 'AAAGCAA', 'AAGCAAG', 'ATACATA', 'AAGAATT', 'CATATTT', 'ATTAAAC', 'ATTTATG', 'CAAAAGA', 'AGAAAAC', 'GAAAACA', 'AAAACAA', 'AAACAAT', 'CAATTGT', 'ATTGTTA', 'ATGTTTT', 'GTTATGA', 'GTTTTAA', 'TATGAAC', 'TGAACAG', 'GAACAGC', 'AACAGCA', 'ACAGCAA', 'CAGCAAA', 'AGCAAAT', 'AAGAAAC', 'GAAACTA', 'AAACTAA', 'AACTAAA', 'ACTAAAA', 'CTAAAAC', 'ACCAAAT', 'AAAACGA', 'AAACGAT', 'AAATCAG', 'AATCAGG', 'ATCAGGG', 'AGGGTAA', 'CTGAGAC', 'GTAATTT', 'GAGACTT', 'AATTTTG', 'ATTTTGC', 'ACTTCCA', 'CTTCCAC', 'TTCCACA', 'TCCACAC', 'CACACTG', 'CACTGAT', 'ACTGATG', 'GATGCAA', 'AATTTTA', 'ATTTTAA', 'GCAATCA', 'CAATCAT', 'AATCATT', 'ATCATTC', 'AAAAAAT', 'AAAAATG', 'AAAATGC', 'AAATGCT', 'AATGCTT', 'ATGCTTT', 'GTCTGTT', 'CTGTTTC', 'TGTTTCC', 'GTTTCCC', 'TCTTCTT', 'TCCCATT', 'CCCATTC', 'CCATTCT', 'CATTCTA', 'ATTCTAA', 'TTAATAT', 'TAATATA', 'AATATAC', 'ATATACT', 'AAACTGT', 'AACTGTA', 'ACTGTAC', 'ACTTTTT', 'CTTTTTT', 'GTACCCT', 'ACCCTGT', 'CCCTGTT', 'CCTGTTA', 'CTGTTAC', 'GTTTATC', 'GTTACTT', 'TTACTTA', 'TACTTAT', 'ACTTATC', 'CTTATCC', 'ATCCCCT', 'ATTTCTA', 'CCCTTCC', 'CCTTCCT', 'CTAATAC', 'TAATACT', 'AATACTT', 'ATACTTT', 'CTATGAC', 'ACTTTCC', 'ATGACAT', 'TGACATG', 'GACATGA', 'ACATGAA', 'CATGAAC', 'ATGAACT', 'CTAATCT', 'GAACTTA', 'ACTTAAC', 'CTCTTTC', 'TAACCAT', 'ACCATAG', 'CCATAGA', 'CATAGAA', 'TAGAAAA', 'AGAAAAG', 'GAAAAGA', 'AAGAAGG', 'AGAAGGG', 'AATAATG', 'GGGAAAG', 'AATGATA', 'AAACATC', 'AACATCA', 'ACATCAA', 'CATCAAG', 'ATCAAGC', 'TATCATG', 'ATCATGC', 'AAGCGTC', 'AGCGTCC', 'ATGCCTC', 'CGTCCCA', 'GCCTCTT', 'CCTCTTT', 'CCCATAG', 'CATAGAC', 'ATAGACT', 'TAGACTC', 'AGACTCA', 'GACTCAC', 'ACTCACC', 'ACCATTC', 'CACCCTG', 'CCTGAAG', 'CTAAAGA', 'TAAAGAA', 'AAAGAAT', 'AAGAATA', 'GAATAAC', 'AATAACA', 'ATAACAG', 'AACAGTG', 'ACAGTGA', 'AGGATCC', 'GATCCAC', 'ATCCACG', 'GATAATT', 'ATAATTT', 'CACGTGC', 'AATTTCT', 'ATTTCTG', 'GTGCAGC', 'TGCAGCT', 'GCAGCTT', 'CAGCTTG', 'AGCTTGT', 'GCTTGTC', 'CTTGTCA', 'TGTCACA', 'GTCACAG', 'AAGGCAA', 'AGGCAAT', 'ACAGTGC', 'CAGTGCA', 'AGTGCAG', 'AATAGCA', 'ATAGCAA', 'GCAGCTC', 'AGCTCAC', 'CAATATC', 'CACTCAG', 'ACTCAGT', 'CTCAGTG', 'CTCTGCA', 'CAGTGTG', 'GTGTGGC', 'GCATATA', 'CATATAA', 'ATATAAA', 'GGCAAAG', 'CAAAGGT', 'AAAGGTG', 'AAGGTGC', 'AGGTGCC', 'GGTGCCC', 'TGCCCTT', 'GCCCTTG', 'CCCTTGA', 'CCTTGAG', 'CTTGAGG', 'AGGTTGT', 'ATAAATT', 'GTTGTCC', 'AAATTGT', 'AATTGTA', 'ATTGTAA', 'TCCAGGT', 'CCAGGTG', 'CAGGTGA', 'AGGTGAG', 'AACTGAT', 'CTGATGT', 'GAGCCAG', 'AGCCAGG', 'ATGTAAG', 'CCAGGCC', 'CAGGCCA', 'AGGCCAT', 'CCATCAC', 'AGGTTTC', 'ATCACTA', 'GTTTCAT', 'CACTAAA', 'ACTAAAG', 'CTAAAGG', 'CATATTG', 'AAAGGCA', 'AAGGCAC', 'AGGCACC', 'GGCACCG', 'GCACCGA', 'CACCGAG', 'ACCGAGC', 'CCGAGCA', 'ATAGCAG', 'AGCACTT', 'AGCAGCT', 'CACTTTC', 'AGCTACA', 'GCTACAA', 'CTACAAT', 'TACAATC', 'ACAATCC', 'CAATCCA', 'CCATGAG', 'CATGAGC', 'ATGAGCC', 'AGCTACC', 'GAGCCTT', 'AGCCTTC', 'GCCTTCA', 'CATTCTG', 'ATTCTGC', 'CACCTTA', 'ACCTTAG', 'GCTTTTA', 'CTTTTAT', 'AGGGTTG', 'GGGTTGC', 'GGTTGCC', 'GTTGCCC', 'ATTTTAT', 'TGCCCAT', 'GCCCATA', 'CCATAAC', 'ATGGTTG', 'GGTTGGG', 'ACAGCAT', 'CAGCATC', 'AGCATCA', 'GCATCAG', 'CATCAGG', 'ATAAGGC', 'TAAGGCT', 'AAGGCTG', 'AGGAGTG', 'GGAGTGG', 'GAGTGGA', 'AGTGGAC', 'GTGGACA', 'GGATTAT', 'GATTATT', 'ATTATTC', 'ACAGATC', 'CAGATCC', 'AGATCCC', 'GATCCCC', 'ATCCCCA', 'CTGAGTC', 'CCCCAAA', 'CCCAAAG', 'AGTCCAA', 'AAAGGAC', 'AAGGACT', 'AGGACTC', 'AAGCTAG', 'AGCTAGG', 'ACTCAAA', 'CTAGGCC', 'TAGGCCC', 'AAAGAAC', 'AAGAACC', 'AGAACCT', 'ACCTCTG', 'CCTCTGG', 'CTCTGGG', 'TCTGGGT', 'CTGGGTC', 'CTAATCA', 'GGGTCCA', 'AATCATG', 'ATCATGT', 'TCATGTT', 'CATGTTC', 'ATGTTCA', 'AAGGGTA', 'AGGGTAG', 'GGGTAGA', 'GGTAGAC', 'CATACCT', 'ATACCTC', 'AGACCAC', 'ACCACCA', 'CCACCAG', 'CCAGCAG', 'CAGCAGC', 'AGCAGCC', 'CAGCCTA', 'AGCCTAA', 'GCCTAAG', 'CCTAAGG', 'CTAAGGG', 'TAAGGGT', 'AAGGGTG', 'AGGGTGG', 'CACAGCT', 'ACAGCTC', 'CAGCTCC', 'AGCTCCT', 'GCTCCTG', 'CTCCTGG', 'AAAATAG', 'AAATAGA', 'AATAGAC', 'ATAGACC', 'GGCAACG', 'AGACCAA', 'CAACGTG', 'AACGTGC', 'ACGTGCT', 'CAATAGG', 'AATAGGC', 'GCTGGTC', 'GGCAGAG', 'GCAGAGA', 'CAGAGAG', 'AGAGAGA', 'CTGTGTG', 'AGAGAGT', 'GAGAGTC', 'AGAGTCA', 'GAGTCAG', 'AGTCAGT', 'GCTGGCC', 'CTGGCCC', 'CAGTGCC', 'AGTGCCT', 'GCCCATC', 'CCCATCA', 'CATCACT', 'ATCACTT', 'TATCAGA', 'ATCAGAA', 'ACTTTGG', 'CAGAAAC', 'AGAAACC', 'GAAACCC', 'AAACCCA', 'AACCCAA', 'ACCCAAG', 'CAAAGAA', 'AAGAGTC', 'AGAGTCT', 'AATTCAC', 'AGTCTTC', 'GTCTTCT', 'TCACCCC', 'CACCCCA', 'ACCCCAC', 'CCCCACC', 'CCCACCA', 'CACCAGT', 'ACCAGTG', 'CCAGTGC', 'GTGCAGG', 'CCACATG', 'CACATGC', 'ACATGCC', 'AGGCTGC', 'ATGCCCA', 'GCTGCCT', 'CAGTTTC', 'GTTTCTA', 'TCAGAAA', 'CAGAAAG', 'AAAGTGG', 'AAGTGGT', 'AGTGGTG', 'GGTCTCC', 'GTCTCCT', 'GGTGGCT', 'CTCCTTA', 'TCCTTAA', 'CCTTAAA', 'CTTAAAC', 'CTGGTGT', 'TAAACCT', 'AAACCTG', 'AACCTGT', 'ACCTGTC', 'CCTGTCT', 'CTGTCTT', 'GGCTAAT', 'GCTAATG', 'CTAATGC', 'CTTGTAA', 'AATGCCC', 'ATGCCCT', 'GTAACCT', 'GCCCTGG', 'AACCTTG', 'ACCTTGA', 'CCTTGAT', 'CTTGATA', 'GGCCCAC', 'GCCCACA', 'CCCACAA', 'ATACCAA', 'CACAAGT', 'ACAAGTA', 'CAAGTAT', 'AAGTATC', 'AACCTGC', 'ACCTGCC', 'CCTGCCC', 'TCACTAA', 'CACTAAG', 'ACTAAGC', 'CCAGGGC', 'CAGGGCC', 'AAGCTCG', 'AGCTCGC', 'GCTCGCT', 'CTCGCTT', 'CCTCACC', 'CGCTTTC', 'CACCACC', 'CCACCAA', 'CACCAAC', 'ACCAACT', 'CCAACTT', 'CAACTTC', 'ACTTCAT', 'CTTCATC', 'GTCCAAT', 'TCATCCA', 'CATCCAC', 'CACGTTC', 'ACGTTCA', 'CGTTCAC', 'CTATTAA', 'ATTAAAG', 'CACCTTG', 'ACCTTGC', 'AAAGGTT', 'AAGGTTC', 'AGGTTCC', 'GGTTCCT', 'GCCCCAC', 'CCCCACA', 'CCCACAG', 'CCACAGG', 'CACAGGG', 'ACAGGGC', 'CAGGGCA', 'AGGGCAG', 'GGGCAGT', 'GGCAGTA', 'GCAGTAA', 'CAGTAAC', 'AGTAACG', 'CTAAGTC', 'TAACGGC', 'AACGGCA', 'ACGGCAG', 'CGGCAGA', 'GGCAGAC', 'CCAACTA', 'CAACTAC', 'AACTACT', 'ACTACTA', 'ACTTCTC', 'CTTCTCC', 'ACTAAAC', 'CTAAACT', 'CTCCTCA', 'ACTGGGG', 'CTGGGGG', 'CAGGAGT', 'AGGAGTC', 'GGAGTCA', 'AGTCAGA', 'GATATTA', 'ATATTAT', 'AGATGCA', 'GATGCAC', 'ATGCACC', 'ATGAAGG', 'GCACCAT', 'CACCATG', 'ATGGTGT', 'GCCTTGA', 'CTTGAGC', 'TGTCTGT', 'GAGCATC', 'AGCATCT', 'GCATCTG', 'CATCTGG', 'ATCTGGA', 'TCTGGAT', 'CTGGATT', 'GAGGTTG', 'AGGTTGC', 'GATTCTG', 'TTCTGCC', 'TCTGCCT', 'CTAGTGA', 'GCCTAAT', 'AGTGAAC', 'CTAATAA', 'TAATAAA', 'AACACAG', 'AAAAACA', 'AACATTT', 'ACATTTA', 'CATTTAT', 'ATTTATT', 'TGTCAGA', 'GTCAGAA', 'TATTTTC', 'ATTTTCA', 'AGAAGCA', 'GAAGCAA', 'AAGCAAA', 'CATTGCA', 'ATTGCAA']\n",
            "Total Unique Kmers found are  1186 ['ACATTTG', 'CATTTGC', 'CAATGAA', 'AATGAAA', 'ATGAAAA', 'GCTTCTG', 'CTTCTGA', 'AATAAAT', 'ATAAATG', 'GACACAA', 'AAATGTT', 'ACAACTG', 'CAACTGT', 'AACTGTG', 'ACTGTGT', 'CTGTGTT', 'TGTGTTC', 'GTGTTCA', 'TGTTCAC', 'GTTCACT', 'ATTAGGC', 'TCACTAG', 'CACTAGC', 'ACTAGCA', 'CTAGCAA', 'GCAGAAT', 'AGCAACC', 'AGAATCC', 'CCTCAAA', 'CCAGATG', 'AGATGCT', 'ACAGACA', 'CAGACAC', 'AGACACC', 'GACACCA', 'ACACCAT', 'AAGGCCC', 'ACCATGG', 'CCATGGT', 'CCTTCAT', 'CTTCATA', 'GTGCATC', 'CATAATA', 'ATAATAT', 'ATCTGAC', 'AATATCC', 'ATATCCC', 'ATCCCCC', 'CCCCCAG', 'CCCCAGT', 'CAGTTTA', 'AGGAGAA', 'GAGAAGT', 'AGAAGTC', 'AGTAGTT', 'AAGTCTG', 'AGTTGGA', 'GTTGGAC', 'CTGCCGT', 'TGCCGTT', 'GCCGTTA', 'CCGTTAC', 'ACTTAGG', 'TTACTGC', 'TACTGCC', 'ACTGCCC', 'CTGCCCT', 'GGAACAA', 'GAACAAA', 'AACAAAG', 'ACAAAGG', 'AAGGAAC', 'AGGAACC', 'GGAACCT', 'GAACCTT', 'AACCTTT', 'ACCTTTA', 'CAAGGTG', 'GGTGAAC', 'GTGAACG', 'AACGTGG', 'ACGTGGA', 'CGTGGAT', 'AAATTGG', 'AATTGGA', 'ATTGGAC', 'GATGAAG', 'ATGAAGT', 'GGACAGC', 'GAAGTTG', 'AAGTTGG', 'AGTTGGT', 'GAAAGCG', 'AAAGCGA', 'AAGCGAG', 'AGCGAGC', 'GAGGCCC', 'GAGCTTA', 'AGCTTAG', 'CCCTGGG', 'CCTGGGC', 'CTGGGCA', 'GGCAGGT', 'GCAGGTT', 'CAGGTTG', 'AGGTTGG', 'GGTTGGT', 'ACTTGTG', 'CTTGTGG', 'TGGTATC', 'GGTATCA', 'TATCAAG', 'ATCAAGG', 'GGCCAGG', 'CAAGGTT', 'AAGGTTA', 'AGGTTAC', 'AGGGCAT', 'GGGCATT', 'GGCATTA', 'GCATTAG', 'ACAAGAC', 'ATTAGCC', 'AAGACAG', 'AGACAGG', 'AGCCACA', 'ACAGGTT', 'CAGGTTT', 'AGGTTTA', 'ACACCAG', 'ACCAGCC', 'CCAGCCA', 'CAGCCAC', 'AAGGAGA', 'AGGAGAC', 'CCACCAC', 'CACCACT', 'ACCACTT', 'CCACTTT', 'ACCAATA', 'CAATAGA', 'TAGAAAC', 'GAAACTG', 'ACTGGGC', 'AGGCAGC', 'GGCAGCC', 'CAGCCTG', 'AGCCTGC', 'CATGTGG', 'ATGTGGA', 'GTGGAGA', 'GCACTGG', 'CACTGGT', 'ACTGGTG', 'AGACAGA', 'GACAGAG', 'ACAGAGA', 'CAGAGAA', 'AGAGAAG', 'AGAAGAC', 'GAAGACT', 'AAGACTC', 'AGACTCT', 'GAATTCT', 'TCTTGGG', 'CTTGGGT', 'CTTTGCC', 'TGGGTTT', 'GGGTTTC', 'GGTTTCT', 'GCCAAAG', 'CCAAAGT', 'CAAAGTG', 'AAAGTGA', 'AAGTGAT', 'GATAGGC', 'GATGGGC', 'AGGCACT', 'GGCACTG', 'GCACTGA', 'CACTGAC', 'ACTGACT', 'CAGCACA', 'AGCACAC', 'ACTCTCT', 'CACACAG', 'ACACAGA', 'CACAGAC', 'ACAGACC', 'CAGACCA', 'AGACCAG', 'CAGCACG', 'AGCACGT', 'GCACGTT', 'ATTGGTC', 'ACGTTGC', 'CGTTGCC', 'GGTCTAT', 'GTCTATT', 'TCTATTT', 'CTATTTT', 'CCCAGGA', 'ATTTTCC', 'CAGGAGC', 'AGGAGCT', 'GGAGCTG', 'GAGCTGT', 'AGCTGTG', 'CCACCCT', 'CACCCTT', 'ACCCTTA', 'CCCTTAG', 'CTTAGGC', 'GGAGGAA', 'GAGGAAG', 'AGGAAGA', 'GGAAGAT', 'GAAGATA', 'AGATAAG', 'GATAAGA', 'ATAAGAG', 'TAAGAGG', 'AGAGGTA', 'GAGGTAT', 'AGGTATG', 'GGTATGA', 'GTATGAA', 'CTACCCT', 'ACCCTTG', 'CCCTTGG', 'AACATGA', 'ACATGAT', 'CATGATT', 'GGACCCA', 'GACCCAG', 'ACCCAGA', 'CCCAGAG', 'CCAGAGG', 'AGCAAAA', 'AAAAGGG', 'AAAGGGC', 'GGGCCTA', 'CTTTGAG', 'GCCTAGC', 'CCTAGCT', 'CTAGCTT', 'GAGTCCT', 'AGCTTGG', 'GCTTGGA', 'CTTGGAC', 'CCTTTGG', 'CTTTGGG', 'GGACTCA', 'GACTCAG', 'ACTCAGA', 'CTCAGAA', 'GGGATCT', 'CAGAATA', 'ATCTGTC', 'AATAATC', 'ATAATCC', 'TAATCCA', 'CCACTCC', 'CACTCCT', 'AGCCTTA', 'GCCTTAT', 'CCTGATG', 'TGATGCT', 'GATGCTG', 'ATCCCAA', 'TCCCAAC', 'CCCAACC', 'CCAACCA', 'CAACCAT', 'ACCATAA', 'ATGGGCA', 'ATAAAAT', 'GGGCAAC', 'AACCCTA', 'ACCCTAA', 'AAAAGCA', 'AAAGCAG', 'AAGCAGA', 'AGCAGAA', 'AATGGTA', 'ATGGTAG', 'AAGGCTC', 'AGGCTCA', 'GGCTCAT', 'GCTCATG', 'AGCTGGA', 'GCTGGAT', 'CATGGCA', 'ATGGCAA', 'GGATTGT', 'GATTGTA', 'ATTGTAG', 'AAAGTGC', 'AAGTGCT', 'AGTGCTC', 'GTGCTCG', 'GCTATTA', 'CTATTAG', 'CTCGGTG', 'ATTAGCA', 'CGGTGCC', 'GGTGCCT', 'GCAATAT', 'AATATGA', 'ATATGAA', 'TATGAAA', 'ATGAAAC', 'AAACCTC', 'ATGGCCT', 'CTCTTAC', 'GGCCTGG', 'CTTACAT', 'CCTGGCT', 'CTGGCTC', 'ACATCAG', 'CATCAGT', 'ATCAGTT', 'CTCACCT', 'CAGTTAC', 'AGTTACA', 'ACCTGGA', 'CCTGGAC', 'CTGGACA', 'ACAATTT', 'CAATTTA', 'AATTTAT', 'ACAACCT', 'CTCAAGG', 'CAAGGGC', 'AAGGGCA', 'AGGGCAC', 'GAAATAT', 'AAATATT', 'AATATTT', 'ACCTTTG', 'CCTTTGC', 'ATTTATA', 'TTTATAT', 'TTATATG', 'TATATGC', 'CACTGAG', 'ACTGAGT', 'AGTGAGC', 'ATATTGC', 'TATTGCT', 'ATTGCTA', 'GCTGCAC', 'CTATTGC', 'GCACTGT', 'ATTGCCT', 'ACTGTGA', 'CTGTGAC', 'GCCTTAA', 'GACAAGC', 'ACAAGCT', 'AACCCAG', 'AAGCTGC', 'CCAGAAA', 'CAGAAAT', 'AGAAATT', 'GAAATTA', 'AAATTAT', 'AATTATC', 'ATTATCA', 'GTGGATC', 'TATCACT', 'ATCACTG', 'ACTGTTA', 'CTGAGAA', 'GTTATTC', 'GAGAACT', 'AGAACTT', 'ACTTCAG', 'CTTCAGG', 'TTCAGGG', 'TCAGGGT', 'CAGGGTG', 'AATGGTG', 'TGAGTCT', 'GAGTCTA', 'AGTCTAT', 'GTCTATG', 'GCAAAGA', 'CAAAGAG', 'AAAGAGG', 'AAGAGGC', 'AGAGGCA', 'GAGGCAT', 'AGGCATG', 'GACGCTT', 'ACGCTTG', 'CATGATA', 'CTTGATG', 'GATACAT', 'GATGTTT', 'ACATTGT', 'CATTGTA', 'ATTGTAT', 'TTGTATC', 'GTATCAT', 'TATCATT', 'ATCATTA', 'TCATTAT', 'CATTATT', 'ATTATTG', 'CCCTTCT', 'ATTGCCC', 'TGCCCTG', 'GCCCTGA', 'CCTGAAA', 'CTGAAAG', 'TGAAAGA', 'GAAAGAA', 'AGAAAGA', 'GAAAGAG', 'AAAGAGA', 'AAGAGAT', 'AGAGATT', 'GAGATTA', 'AAGTTCA', 'AGTTCAT', 'ATTAGGG', 'TTAGGGA', 'TAGGGAA', 'AGGGAAA', 'ATGTCAT', 'GGAAAGT', 'GAAAGTA', 'AAGTATT', 'AGTATTA', 'GTATTAG', 'AGGAAGG', 'ATTAGAA', 'GAAATAA', 'AATAAGA', 'ATAAGAT', 'ATAAGTA', 'AGTAACA', 'ATAAACA', 'ACAAAAA', 'AGGGTAC', 'AAAAAGT', 'AAAAGTA', 'AGTATAT', 'GTTTAGA', 'GAATGGG', 'AAGAAGA', 'GAAGAAA', 'AAAGCAT', 'AAGCATT', 'AGACGAA', 'GACGAAT', 'ACGAATG', 'ATTTTTT', 'GAATGAT', 'ATGATTG', 'TGATTGC', 'GATTGCA', 'ATTGCAT', 'AATTACA', 'ATTACAA', 'ATCAGTG', 'TACAAAT', 'ACAAATG', 'AAATGCA', 'AATGCAA', 'TGCAAAA', 'GCAAAAT', 'CAAAATT', 'AATTACC', 'ATTACCC', 'AGGATCG', 'CCTGATT', 'CTGATTT', 'ATCGTTT', 'GATTTGG', 'ATTTGGT', 'GTTTTAG', 'TTGGTCA', 'TGGTCAA', 'GGTCAAT', 'GTCAATA', 'ATGTGTA', 'TGTGTAC', 'GTGTACA', 'TGTACAC', 'GTACACA', 'CACATAT', 'CATATTA', 'TTAAAAC', 'TAAAACA', 'AACATTA', 'ATTACAC', 'ATTGTTT', 'ACACTTT', 'CACTTTA', 'ACTTTAA', 'CTTTAAC', 'TTTAACC', 'TTAACCC', 'TAACCCA', 'AACCCAT', 'ACCCATA', 'CATAAAT', 'TAAATAT', 'AAATATG', 'ATTCTTG', 'ATGTATA', 'TCTTGCT', 'CTTGCTT', 'TATAATG', 'TGATTAT', 'ATTATGT', 'TTATGTA', 'TATGTAT', 'TATCAAT', 'ATCAATT', 'TCAATTA', 'CAATTAA', 'TCTCCGC', 'CTCCGCA', 'AAAAATA', 'AATTTTT', 'AGAAAAT', 'AATAAAG', 'ATAAAGT', 'ATTATAC', 'AAAGTAG', 'AAGTAGG', 'AGTAGGG', 'GTAGGGA', 'AGGGAGA', 'GGGAGAT', 'GGAGATT', 'AATGCCT', 'AGATTAT', 'ATTATGA', 'CTTAACA', 'ATGAATA', 'TAACATT', 'AACATTG', 'AATATGC', 'ATTGTGT', 'TGCAAAT', 'AATAAGC', 'ATAACAA', 'TAACAAA', 'AAAAGGA', 'AAGGAAA', 'ACATATA', 'CATATAT', 'ATATATT', 'AAATATC', 'ATTCCAA', 'ATCTCTG', 'TCCAAAT', 'CCAAATA', 'CAAATAG', 'AAATAGT', 'AGATACA', 'AGTAATG', 'AATGTAC', 'ATGTACT', 'GTACTAG', 'TAAGTAA', 'AGTAACT', 'GTAACTT', 'ACTTAAA', 'CAGACTG', 'AGACTGT', 'GACTGTG', 'AAAAACT', 'AAAACTT', 'AAACTTT', 'AAAGTTT', 'AAGTTTT', 'AGTTTTT', 'GTTTTTT', 'TTACACA', 'TACACAG', 'CACAGTC', 'ACAGTCT', 'CAGTCTG', 'GTCTGCC', 'TAAGTTA', 'AAGTTAC', 'AGTTACT', 'GCCTAGT', 'CCTAGTA', 'CTAGTAC', 'AGTACAT', 'GTACATT', 'AATGTAT', 'ATTACTA', 'GTATCTC', 'TACTATT', 'ACTATTT', 'CTATTTG', 'CTCAGAG', 'ATTTGGA', 'CAGAGAT', 'GAATATA', 'AATATAT', 'ATATATG', 'ATTTCCT', 'ATGTGTG', 'CTTTTGT', 'TGTGCTT', 'GTGCTTA', 'TGCTTAT', 'GCTTATT', 'TTATACA', 'TATACAC', 'ATACACA', 'TACACAA', 'ACACAAT', 'CACAATG', 'ACAATGT', 'CAATGTT', 'AATGTTA', 'ATGTTAA', 'ATTCATA', 'CATAATC', 'AAGGCAT', 'AGGCATT', 'AATCTCC', 'ATCTCCC', 'CATTAAG', 'TCCCTAC', 'CCCTACT', 'AGTATAA', 'GTATAAT', 'ACTTTAT', 'ATAATAG', 'TAATAGT', 'ATTTTCT', 'AGTAAAA', 'GTAAAAA', 'TAAAAAT', 'AAAAATT', 'AAAATTG', 'AAATTGC', 'AATTGCG', 'ATTGCGG', 'TATTTTT', 'ATTTTTA', 'GCGGAGA', 'CGGAGAA', 'AATTGAT', 'AGAAAAA', 'GAAAAAA', 'AAAAAGA', 'GAAAGCA', 'AAAGCAA', 'AAGCAAG', 'ATACATA', 'CATATTT', 'ATTAAAC', 'ATTTATG', 'CAAAAGA', 'AAAACAA', 'AAACAAT', 'CAATTGT', 'ATTGTTA', 'ATGTTTT', 'GTTATGA', 'GTTTTAA', 'TATGAAC', 'TGAACAG', 'GAACAGC', 'ACAGCAA', 'CAGCAAA', 'AAGAAAC', 'GAAACTA', 'AAACTAA', 'AACTAAA', 'ACTAAAA', 'CTAAAAC', 'ACCAAAT', 'AAAACGA', 'AAACGAT', 'AAATCAG', 'AATCAGG', 'ATCAGGG', 'AGGGTAA', 'CTGAGAC', 'GAGACTT', 'AATTTTG', 'ATTTTGC', 'ACTTCCA', 'CTTCCAC', 'TTCCACA', 'TCCACAC', 'CACACTG', 'CACTGAT', 'GATGCAA', 'AATTTTA', 'ATTTTAA', 'GCAATCA', 'CAATCAT', 'AATCATT', 'ATCATTC', 'AAAAAAT', 'AAAAATG', 'AAAATGC', 'AAATGCT', 'AATGCTT', 'ATGCTTT', 'CTGTTTC', 'TGTTTCC', 'GTTTCCC', 'TCTTCTT', 'TCCCATT', 'CCCATTC', 'CATTCTA', 'ATTCTAA', 'TTAATAT', 'TAATATA', 'AATATAC', 'ATATACT', 'AAACTGT', 'AACTGTA', 'ACTGTAC', 'ACTTTTT', 'CTTTTTT', 'GTACCCT', 'ACCCTGT', 'CCCTGTT', 'CCTGTTA', 'CTGTTAC', 'GTTTATC', 'GTTACTT', 'TTACTTA', 'TACTTAT', 'ACTTATC', 'CTTATCC', 'ATCCCCT', 'CCCTTCC', 'CCTTCCT', 'CTAATAC', 'TAATACT', 'AATACTT', 'ATACTTT', 'CTATGAC', 'ACTTTCC', 'ATGACAT', 'TGACATG', 'GACATGA', 'ACATGAA', 'CATGAAC', 'ATGAACT', 'CTAATCT', 'GAACTTA', 'ACTTAAC', 'CTCTTTC', 'TAACCAT', 'ACCATAG', 'CATAGAA', 'TAGAAAA', 'AGAAAAG', 'GAAAAGA', 'AAGAAGG', 'AGAAGGG', 'AATAATG', 'GGGAAAG', 'AATGATA', 'AAACATC', 'AACATCA', 'ACATCAA', 'CATCAAG', 'ATCAAGC', 'TATCATG', 'ATCATGC', 'AAGCGTC', 'AGCGTCC', 'ATGCCTC', 'CGTCCCA', 'GCCTCTT', 'CCTCTTT', 'CCCATAG', 'CATAGAC', 'ATAGACT', 'TAGACTC', 'AGACTCA', 'GACTCAC', 'ACTCACC', 'CACCCTG', 'CCTGAAG', 'CTAAAGA', 'TAAAGAA', 'AAGAATA', 'GAATAAC', 'AATAACA', 'AACAGTG', 'ACAGTGA', 'AGGATCC', 'GATCCAC', 'GATAATT', 'ATAATTT', 'CACGTGC', 'GTGCAGC', 'TGCAGCT', 'GCAGCTT', 'CAGCTTG', 'AGCTTGT', 'GCTTGTC', 'CTTGTCA', 'TGTCACA', 'GTCACAG', 'AAGGCAA', 'AGGCAAT', 'ACAGTGC', 'ATAGCAA', 'GCAGCTC', 'AGCTCAC', 'CAATATC', 'CACTCAG', 'ACTCAGT', 'CTCAGTG', 'CTCTGCA', 'CAGTGTG', 'GTGTGGC', 'GGCAAAG', 'CAAAGGT', 'AAAGGTG', 'AAGGTGC', 'AGGTGCC', 'GGTGCCC', 'TGCCCTT', 'GCCCTTG', 'CCCTTGA', 'CTTGAGG', 'AGGTTGT', 'ATAAATT', 'GTTGTCC', 'AAATTGT', 'AATTGTA', 'ATTGTAA', 'TCCAGGT', 'CCAGGTG', 'CAGGTGA', 'AGGTGAG', 'AACTGAT', 'CTGATGT', 'GAGCCAG', 'AGCCAGG', 'ATGTAAG', 'CCAGGCC', 'CAGGCCA', 'AGGCCAT', 'AGGTTTC', 'GTTTCAT', 'CACTAAA', 'ACTAAAG', 'CTAAAGG', 'CATATTG', 'AAAGGCA', 'AAGGCAC', 'AGGCACC', 'GGCACCG', 'GCACCGA', 'CACCGAG', 'ACCGAGC', 'CCGAGCA', 'ATAGCAG', 'AGCACTT', 'AGCAGCT', 'CACTTTC', 'AGCTACA', 'GCTACAA', 'CTACAAT', 'TACAATC', 'ACAATCC', 'CAATCCA', 'CCATGAG', 'CATGAGC', 'ATGAGCC', 'AGCTACC', 'GAGCCTT', 'AGCCTTC', 'GCCTTCA', 'CATTCTG', 'CACCTTA', 'ACCTTAG', 'GCTTTTA', 'CTTTTAT', 'AGGGTTG', 'GGGTTGC', 'GGTTGCC', 'GTTGCCC', 'ATTTTAT', 'TGCCCAT', 'GCCCATA', 'CCATAAC', 'ATGGTTG', 'GGTTGGG', 'ACAGCAT', 'CAGCATC', 'AGCATCA', 'GCATCAG', 'CATCAGG', 'ATAAGGC', 'TAAGGCT', 'AAGGCTG', 'AGGAGTG', 'GGAGTGG', 'GAGTGGA', 'AGTGGAC', 'GTGGACA', 'GGATTAT', 'GATTATT', 'ATTATTC', 'ACAGATC', 'CAGATCC', 'AGATCCC', 'GATCCCC', 'ATCCCCA', 'CTGAGTC', 'CCCCAAA', 'CCCAAAG', 'AGTCCAA', 'AAAGGAC', 'AAGGACT', 'AGGACTC', 'AAGCTAG', 'AGCTAGG', 'ACTCAAA', 'CTAGGCC', 'TAGGCCC', 'AAAGAAC', 'AAGAACC', 'AGAACCT', 'ACCTCTG', 'CCTCTGG', 'CTCTGGG', 'TCTGGGT', 'CTGGGTC', 'CTAATCA', 'GGGTCCA', 'AATCATG', 'ATCATGT', 'TCATGTT', 'CATGTTC', 'ATGTTCA', 'AAGGGTA', 'AGGGTAG', 'GGGTAGA', 'GGTAGAC', 'CATACCT', 'ATACCTC', 'AGACCAC', 'CCAGCAG', 'CAGCAGC', 'AGCAGCC', 'CAGCCTA', 'AGCCTAA', 'GCCTAAG', 'CCTAAGG', 'CTAAGGG', 'TAAGGGT', 'AAGGGTG', 'AGGGTGG', 'CACAGCT', 'ACAGCTC', 'CAGCTCC', 'AGCTCCT', 'GCTCCTG', 'CTCCTGG', 'AAAATAG', 'AAATAGA', 'AATAGAC', 'ATAGACC', 'GGCAACG', 'AGACCAA', 'CAACGTG', 'AACGTGC', 'ACGTGCT', 'CAATAGG', 'AATAGGC', 'GCTGGTC', 'GGCAGAG', 'GCAGAGA', 'CAGAGAG', 'AGAGAGA', 'CTGTGTG', 'AGAGAGT', 'GAGAGTC', 'AGAGTCA', 'AGTCAGT', 'GCTGGCC', 'CTGGCCC', 'CAGTGCC', 'AGTGCCT', 'GCCCATC', 'CCCATCA', 'CATCACT', 'ATCACTT', 'TATCAGA', 'ACTTTGG', 'CAGAAAC', 'AGAAACC', 'GAAACCC', 'AAACCCA', 'AACCCAA', 'ACCCAAG', 'CAAAGAA', 'AAGAGTC', 'AGAGTCT', 'AATTCAC', 'AGTCTTC', 'GTCTTCT', 'TCACCCC', 'CACCCCA', 'ACCCCAC', 'CCCCACC', 'CCCACCA', 'CACCAGT', 'ACCAGTG', 'CCAGTGC', 'GTGCAGG', 'CCACATG', 'CACATGC', 'ACATGCC', 'AGGCTGC', 'ATGCCCA', 'GCTGCCT', 'CAGTTTC', 'GTTTCTA', 'TCAGAAA', 'CAGAAAG', 'AAAGTGG', 'AAGTGGT', 'AGTGGTG', 'GGTCTCC', 'GTCTCCT', 'GGTGGCT', 'CTCCTTA', 'TCCTTAA', 'CCTTAAA', 'CTTAAAC', 'CTGGTGT', 'TAAACCT', 'AAACCTG', 'AACCTGT', 'ACCTGTC', 'CCTGTCT', 'CTGTCTT', 'GGCTAAT', 'GCTAATG', 'CTAATGC', 'CTTGTAA', 'AATGCCC', 'ATGCCCT', 'GTAACCT', 'GCCCTGG', 'AACCTTG', 'ACCTTGA', 'CCTTGAT', 'CTTGATA', 'GGCCCAC', 'GCCCACA', 'CCCACAA', 'ATACCAA', 'CACAAGT', 'ACAAGTA', 'CAAGTAT', 'AAGTATC', 'AACCTGC', 'ACCTGCC', 'CCTGCCC', 'TCACTAA', 'CACTAAG', 'ACTAAGC', 'CCAGGGC', 'CAGGGCC', 'AAGCTCG', 'AGCTCGC', 'GCTCGCT', 'CTCGCTT', 'CCTCACC', 'CGCTTTC', 'CACCACC', 'CCACCAA', 'CACCAAC', 'ACCAACT', 'CCAACTT', 'CAACTTC', 'ACTTCAT', 'CTTCATC', 'GTCCAAT', 'TCATCCA', 'CATCCAC', 'CACGTTC', 'ACGTTCA', 'CGTTCAC', 'CTATTAA', 'ATTAAAG', 'CACCTTG', 'ACCTTGC', 'AAAGGTT', 'AAGGTTC', 'AGGTTCC', 'GGTTCCT', 'GCCCCAC', 'CCCCACA', 'CCCACAG', 'CCACAGG', 'CACAGGG', 'ACAGGGC', 'CAGGGCA', 'AGGGCAG', 'GGGCAGT', 'GGCAGTA', 'GCAGTAA', 'CAGTAAC', 'AGTAACG', 'CTAAGTC', 'TAACGGC', 'AACGGCA', 'ACGGCAG', 'CGGCAGA', 'GGCAGAC', 'CCAACTA', 'CAACTAC', 'AACTACT', 'ACTACTA', 'ACTTCTC', 'CTTCTCC', 'ACTAAAC', 'CTAAACT', 'CTCCTCA', 'ACTGGGG', 'CTGGGGG', 'CAGGAGT', 'AGGAGTC', 'GGAGTCA', 'AGTCAGA', 'GATATTA', 'ATATTAT', 'AGATGCA', 'GATGCAC', 'ATGCACC', 'ATGAAGG', 'GCACCAT', 'CACCATG', 'ATGGTGT', 'GCCTTGA', 'CTTGAGC', 'TGTCTGT', 'GAGCATC', 'AGCATCT', 'GCATCTG', 'CATCTGG', 'ATCTGGA', 'TCTGGAT', 'CTGGATT', 'GAGGTTG', 'AGGTTGC', 'GATTCTG', 'TTCTGCC', 'TCTGCCT', 'CTAGTGA', 'GCCTAAT', 'AGTGAAC', 'CTAATAA', 'TAATAAA', 'AACACAG', 'AAAAACA', 'AACATTT', 'ACATTTA', 'CATTTAT', 'ATTTATT', 'TGTCAGA', 'GTCAGAA', 'TATTTTC', 'ATTTTCA', 'AGAAGCA', 'GAAGCAA', 'AAGCAAA', 'CATTGCA', 'ATTGCAA']\n"
          ]
        }
      ]
    },
    {
      "cell_type": "markdown",
      "metadata": {
        "id": "wh0WbFnMqadD"
      },
      "source": [
        "### Question 4\n",
        "#### For the sequence provided in Question 1, create a definition to find the smallest k-mer size where every k-mer is unique for the hbb sequence (i.e. number of unique,distinct and total k-mers are the equal number).  Start with K=2 and keep adding 1 until the objective is reached.\n",
        "\n",
        "\n"
      ]
    },
    {
      "cell_type": "code",
      "metadata": {
        "id": "WZspvd_KypM9",
        "colab": {
          "base_uri": "https://localhost:8080/",
          "height": 133
        },
        "outputId": "dd40086b-3c70-4840-8c40-becbe02924c5"
      },
      "source": [
        "#Finds the total, unique and distinct Kmar counts\n",
        "# Create a definition the returns as a tuple, that includes unique, distinct, and total K-mers by utilizing defintions that you have already created\n",
        "def findKmerTypes(k, sequence):\n",
        "  \n",
        "\n",
        "\n",
        "# Use the fasta loader to obtain the original HBB sequence from question 1\n",
        "\n",
        "#Recal that the original fasta loader creates a dictionary, so you need to generate a sequence list\n",
        "\n",
        "\n",
        "#use a for loop that uses the \"findKmerTypes\" definition to determine when each K-mer class is equal in count to the others.  \n",
        "\n",
        "\n",
        "\n",
        "\n",
        "\n",
        "\n",
        "\n",
        "      #Recall that you need to add a break when the values are equal\n",
        "      break\n"
      ],
      "execution_count": 97,
      "outputs": [
        {
          "output_type": "error",
          "ename": "SyntaxError",
          "evalue": "ignored",
          "traceback": [
            "\u001b[0;36m  File \u001b[0;32m\"<ipython-input-97-75399fcc3eaa>\"\u001b[0;36m, line \u001b[0;32m21\u001b[0m\n\u001b[0;31m    break\u001b[0m\n\u001b[0m    ^\u001b[0m\n\u001b[0;31mSyntaxError\u001b[0m\u001b[0;31m:\u001b[0m 'break' outside loop\n"
          ]
        }
      ]
    }
  ]
}