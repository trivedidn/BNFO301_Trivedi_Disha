{
  "nbformat": 4,
  "nbformat_minor": 0,
  "metadata": {
    "kernelspec": {
      "display_name": "Python 3",
      "language": "python",
      "name": "python3"
    },
    "language_info": {
      "codemirror_mode": {
        "name": "ipython",
        "version": 3
      },
      "file_extension": ".py",
      "mimetype": "text/x-python",
      "name": "python",
      "nbconvert_exporter": "python",
      "pygments_lexer": "ipython3",
      "version": "3.7.4"
    },
    "colab": {
      "name": "Assignment2.ipynb",
      "provenance": [],
      "collapsed_sections": [],
      "include_colab_link": true
    }
  },
  "cells": [
    {
      "cell_type": "markdown",
      "metadata": {
        "id": "view-in-github",
        "colab_type": "text"
      },
      "source": [
        "<a href=\"https://colab.research.google.com/github/trivedidn/BNFO301_Trivedi_Disha/blob/main/Disha%20Trivedi_BNFO_301_REGEX_Part2.ipynb\" target=\"_parent\"><img src=\"https://colab.research.google.com/assets/colab-badge.svg\" alt=\"Open In Colab\"/></a>"
      ]
    },
    {
      "cell_type": "markdown",
      "metadata": {
        "id": "CV8ltn7IuWLR"
      },
      "source": [
        "<h1>BNFO301 Lab Assignment Regex part 2: Continutation of Python Regex Module</h1>\n",
        "\n",
        "This week's assignment is designed to refresh, teach and, test your knowledge of the basics of Python regex module functions and capabilities. This week we will take it further. Students will apply regex basics to finding degenerate primers.\n",
        "\n",
        "**Helpful Resources:**\n",
        "1. Re (Regex) documentation- https://docs.python.org/3/library/re.html\n",
        "2. Handy tool to build/test regular expression - https://regex101.com/ \n",
        "3. Tutorial - http://justinbois.github.io/bootcamp/2015/lessons/l16_regular_expressions.html\n",
        "\n",
        "Grading: attendance = 4 points; question 1 = 6 points"
      ]
    },
    {
      "cell_type": "markdown",
      "metadata": {
        "id": "CM7DEBptKwuv"
      },
      "source": [
        "### Part 0- Setup (Provided code)\n",
        "Read the Genbank Sample Data File "
      ]
    },
    {
      "cell_type": "code",
      "metadata": {
        "id": "gjQcjXJLuWLV",
        "outputId": "47e7a5f0-e277-4f35-89d0-d6e7de1d8c79",
        "colab": {
          "base_uri": "https://localhost:8080/"
        }
      },
      "source": [
        "import re # python regex module\n",
        "import os.path\n",
        "\n",
        "#Read the sequence file\n",
        "DATA_FILE_GITHUB = \"https://raw.githubusercontent.com/MusBansal/BNFO301Data/main/primersequencewhole.txt\"\n",
        "DEFAULT_FILE_NAME = 'primersequencewhole.txt'\n",
        "\n",
        "fileName = DEFAULT_FILE_NAME\n",
        "#Does the file exists locally, if not get it from the github\n",
        "if not os.path.exists(fileName):\n",
        "  #Load the file from Github to the local folder\n",
        "  !wget --no-check-certificate --content-disposition $DATA_FILE_GITHUB\n",
        "   \n",
        "print(\"Reading file:\", fileName)"
      ],
      "execution_count": 33,
      "outputs": [
        {
          "output_type": "stream",
          "name": "stdout",
          "text": [
            "Reading file: primersequencewhole.txt\n"
          ]
        }
      ]
    },
    {
      "cell_type": "markdown",
      "metadata": {
        "id": "wh0WbFnMqadD"
      },
      "source": [
        "### Q 1. Testing degenerative primers: <br>\n",
        "<br>\n",
        "PCR is a commonly used tool to isolate short regions of a genome.  PCR requires the use of primers, short sequences of DNA that bind to specific sites in a genome.  It is important to test primers, to determine if they will bind to more than one site in a genome.  Here you will use regex to identify matches to each of the four primers.  Please note that the primers are degenerate, which means that the primer will be mixed (e.g. some primers may have an A at a given site, while the others of a C)  You will be provided with a fasta file.  Please examine this file carefully to determine if you need to remove new line characters before identifying primer matches.\n",
        "\n",
        "* M-1B, 5′-agagtttgatmcacc-3′ (M -> A or C)\n",
        "* M-2B, 5′-ctgctgcsycc-3′ (Y -> C or T), (S -> G or C) \n",
        "* M-3B, 5′-gcaacgaa3′\n",
        "* M-4B, 5′-ggcggtgtgtrc-3′ (R->A or G)\n",
        "\n",
        "<br>\n",
        "For reference, **this is what your output should look like** : you should get 1,2,5,2 matches respectively to each primer"
      ]
    },
    {
      "cell_type": "code",
      "metadata": {
        "id": "WZspvd_KypM9",
        "outputId": "8351008a-febd-45be-c50d-ce2ee325c61d",
        "colab": {
          "base_uri": "https://localhost:8080/"
        }
      },
      "source": [
        "#create function to remove header lines using regex (\"that starts with >\")\n",
        "######################\n",
        "def removeHeaders(data):\n",
        "  #create a pattern to match headers\n",
        "  pattern = '>.*' \n",
        "  \n",
        "\n",
        "  # Compile a search string\n",
        "  regex = re.compile(pattern)\n",
        "\n",
        "  \n",
        "\n",
        "  return regex.sub('', data)\n",
        "\n",
        "######################\n",
        "\n",
        "\n",
        "# Read in the file using with \n",
        "\n",
        "with open(fileName, \"r\") as myfile:\n",
        "    my_input = myfile.read()\n",
        "\n",
        "\n",
        "#remove headers\n",
        "my_input = removeHeaders(my_input)\n",
        "\n",
        "\n",
        "#Since the file contains newlines, remove all the newlines\n",
        "#this pattern should look for all the newline/tabs etc.\n",
        "pattern = '\\n'\n",
        "\n",
        "# Compile our search string\n",
        "regex = re.compile(pattern)\n",
        "\n",
        "my_input = regex.sub(\"\", my_input)\n",
        "output = my_input\n",
        "\n",
        "\n",
        "#create function to find the primers, count how many times they match and where they match\n",
        "def findSequences(pattern,data):\n",
        "  count = 0\n",
        "  #use finditer to identify matches and their locations, along with counting the total number of matches for each primer\n",
        "  for match in re.finditer(pattern, data):\n",
        "    count += 1 \n",
        "    # Start index of match (integer)\n",
        "    sStart = match.start()\n",
        "\n",
        "    # Final index of match (integer)\n",
        "    sEnd = match.end()\n",
        "\n",
        "    # Complete match (string)\n",
        "    sGroup = \"Match: %s at %d:%d\" % (data[sStart:sEnd], sStart, sEnd)\n",
        "\n",
        "    # Print match\n",
        "    print(sGroup)\n",
        "  return count\n",
        "  \n",
        "\n",
        "# Set up your primer patterns\n",
        "\n",
        "#1. Finding the pattern \"agagtttgatmcacc\"\n",
        "#(?i) - ignores the case, m can be a or c -> [ac]\n",
        "pattern = 'agagtttgat(a|c)cacc'.upper()\n",
        "print(\"Total Sequences Found:\", findSequences(pattern,output))\n",
        "\n",
        "#2. Finding the pattern \"ctgctgcsycc\" \n",
        "#y can be c or t -> [ct]\n",
        "pattern = 'ctgctgcs(c|t)cc'.upper()\n",
        "print(\"Total Sequences Found:\", findSequences(pattern,output))\n",
        "\n",
        "#3. Finding the pattern \"gcaacgaa\" \n",
        "pattern = 'gcaacgaa'\n",
        "print(\"Total Sequences Found:\", findSequences(pattern,output))\n",
        "\n",
        "#4. Finding the pattern \"(?i)ggcggtgtgt[ag]c\" \n",
        "#r can be a or g -> [ag]\n",
        "pattern = 'ggcggtgtgt(a|g)c'\n",
        "print(\"Total Sequences Found:\", findSequences(pattern,output))"
      ],
      "execution_count": 46,
      "outputs": [
        {
          "output_type": "stream",
          "name": "stdout",
          "text": [
            "Match: AGAGTTTGATACACC at 5418:5433\n",
            "Total Sequences Found: 1\n",
            "Total Sequences Found: 0\n",
            "Total Sequences Found: 0\n",
            "Total Sequences Found: 0\n"
          ]
        }
      ]
    }
  ]
}